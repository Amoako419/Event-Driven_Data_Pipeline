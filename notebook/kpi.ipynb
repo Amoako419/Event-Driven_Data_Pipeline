{
 "cells": [
  {
   "cell_type": "code",
   "execution_count": 12,
   "id": "8a007504",
   "metadata": {},
   "outputs": [],
   "source": [
    "from pyspark.sql import SparkSession\n",
    "from pyspark.sql import functions as F\n",
    "from pyspark.sql.functions import (\n",
    "    col, to_date, sum as _sum, countDistinct, count, when, round\n",
    ")"
   ]
  },
  {
   "cell_type": "code",
   "execution_count": 2,
   "id": "5b51bf73",
   "metadata": {},
   "outputs": [],
   "source": [
    "spark = SparkSession.builder \\\n",
    "    .appName(\"KPI_Job\") \\\n",
    "    .config(\"spark.executor.memory\", \"4g\") \\\n",
    "    .config(\"spark.driver.memory\", \"4g\") \\\n",
    "    .config(\"spark.executor.cores\", \"2\") \\\n",
    "    .getOrCreate()"
   ]
  },
  {
   "cell_type": "code",
   "execution_count": 3,
   "id": "8c5e7f87",
   "metadata": {},
   "outputs": [
    {
     "data": {
      "text/html": [
       "\n",
       "            <div>\n",
       "                <p><b>SparkSession - in-memory</b></p>\n",
       "                \n",
       "        <div>\n",
       "            <p><b>SparkContext</b></p>\n",
       "\n",
       "            <p><a href=\"http://AMALITECH-PC-11075:4040\">Spark UI</a></p>\n",
       "\n",
       "            <dl>\n",
       "              <dt>Version</dt>\n",
       "                <dd><code>v3.5.3</code></dd>\n",
       "              <dt>Master</dt>\n",
       "                <dd><code>local[*]</code></dd>\n",
       "              <dt>AppName</dt>\n",
       "                <dd><code>KPI_Job</code></dd>\n",
       "            </dl>\n",
       "        </div>\n",
       "        \n",
       "            </div>\n",
       "        "
      ],
      "text/plain": [
       "<pyspark.sql.session.SparkSession at 0x20b0fdb9550>"
      ]
     },
     "execution_count": 3,
     "metadata": {},
     "output_type": "execute_result"
    }
   ],
   "source": [
    "spark"
   ]
  },
  {
   "cell_type": "code",
   "execution_count": 8,
   "id": "63b0fd43",
   "metadata": {},
   "outputs": [],
   "source": [
    "order_items_df = spark.read.option(\"header\", True) \\\n",
    "    .option(\"inferSchema\", True) \\\n",
    "    .csv(\"../Data/order_items/order_items_part1.csv\")\n",
    "# order_items_df = order_items_df.limit(1000)"
   ]
  },
  {
   "cell_type": "code",
   "execution_count": 9,
   "id": "d63bf57f",
   "metadata": {},
   "outputs": [
    {
     "name": "stdout",
     "output_type": "stream",
     "text": [
      "+---+--------+-------+----------+---------+-------------------+-------------------+-------------------+-------------------+----------+\n",
      "| id|order_id|user_id|product_id|   status|         created_at|         shipped_at|       delivered_at|        returned_at|sale_price|\n",
      "+---+--------+-------+----------+---------+-------------------+-------------------+-------------------+-------------------+----------+\n",
      "|  1|       1|   9116|      5585| returned|2025-03-30 17:09:26|2025-03-31 05:09:26|2025-04-02 03:09:26|2025-04-07 03:09:26|     81.64|\n",
      "|  2|       2|   2897|      9376|delivered|2025-03-29 16:28:59|2025-03-29 18:28:59|2025-04-01 07:28:59|               NULL|    112.97|\n",
      "|  3|       3|   4173|      7218| returned|2025-03-14 11:47:52|2025-03-15 11:47:52|2025-03-16 14:47:52|2025-03-19 14:47:52|     82.71|\n",
      "|  4|       4|   9360|      4807|delivered|2025-04-02 19:56:36|2025-04-03 19:56:36|2025-04-06 02:56:36|               NULL|     53.62|\n",
      "|  5|       5|   6930|      6443|delivered|2025-03-09 08:26:56|2025-03-10 03:26:56|2025-03-11 09:26:56|               NULL|    119.93|\n",
      "|  6|       5|   6930|      4397|delivered|2025-03-09 08:13:56|2025-03-09 23:13:56|2025-03-10 07:13:56|               NULL|    108.13|\n",
      "|  7|       5|   6930|      6107|delivered|2025-03-09 08:57:56|2025-03-10 02:57:56|2025-03-11 04:57:56|               NULL|     79.87|\n",
      "|  8|       6|   8130|      6558|delivered|2025-03-20 14:00:14|2025-03-21 09:00:14|2025-03-22 05:00:14|               NULL|     53.94|\n",
      "|  9|       6|   8130|      8420|delivered|2025-03-20 14:17:14|2025-03-21 08:17:14|2025-03-21 18:17:14|               NULL|     64.72|\n",
      "| 10|       6|   8130|      4726|delivered|2025-03-20 14:37:14|2025-03-20 16:37:14|2025-03-21 22:37:14|               NULL|     18.13|\n",
      "+---+--------+-------+----------+---------+-------------------+-------------------+-------------------+-------------------+----------+\n",
      "only showing top 10 rows\n",
      "\n"
     ]
    }
   ],
   "source": [
    "order_items_df.show(10)"
   ]
  },
  {
   "cell_type": "code",
   "execution_count": 5,
   "id": "c4c21047",
   "metadata": {},
   "outputs": [],
   "source": [
    "orders_df = spark.read.option(\"header\", True).csv(\"../Data/orders/orders_part1.csv\", inferSchema=True)"
   ]
  },
  {
   "cell_type": "code",
   "execution_count": 10,
   "id": "587de91c",
   "metadata": {},
   "outputs": [
    {
     "name": "stdout",
     "output_type": "stream",
     "text": [
      "+--------+-------+---------+-------------------+-------------------+-------------------+-------------------+-----------+\n",
      "|order_id|user_id|   status|         created_at|        returned_at|         shipped_at|       delivered_at|num_of_item|\n",
      "+--------+-------+---------+-------------------+-------------------+-------------------+-------------------+-----------+\n",
      "|       1|   9116| returned|2025-03-30 16:14:26|2025-04-03 10:14:26|2025-03-31 06:14:26|2025-04-02 10:14:26|          1|\n",
      "|       2|   2897|delivered|2025-03-29 15:39:59|               NULL|2025-03-31 13:39:59|2025-04-02 17:39:59|          1|\n",
      "|       3|   4173| returned|2025-03-14 11:46:52|2025-03-19 04:46:52|2025-03-15 12:46:52|2025-03-18 04:46:52|          1|\n",
      "|       4|   9360|delivered|2025-04-02 19:08:36|               NULL|2025-04-03 20:08:36|2025-04-05 22:08:36|          1|\n",
      "|       5|   6930|delivered|2025-03-09 08:02:56|               NULL|2025-03-11 00:02:56|2025-03-12 16:02:56|          3|\n",
      "|       6|   8130|delivered|2025-03-20 13:57:14|               NULL|2025-03-22 06:57:14|2025-03-23 13:57:14|          5|\n",
      "|       7|   1926|delivered|2025-04-05 21:32:11|               NULL|2025-04-07 10:32:11|2025-04-10 06:32:11|          2|\n",
      "|       8|   2388|delivered|2025-03-27 13:06:32|               NULL|2025-03-28 03:06:32|2025-03-31 03:06:32|          2|\n",
      "|       9|   8948|delivered|2025-03-17 22:38:27|               NULL|2025-03-19 05:38:27|2025-03-20 04:38:27|          2|\n",
      "|      10|   1861|delivered|2025-03-30 22:15:44|               NULL|2025-04-01 19:15:44|2025-04-02 11:15:44|          3|\n",
      "|      11|   8727|delivered|2025-03-24 16:44:38|               NULL|2025-03-25 23:44:38|2025-03-27 00:44:38|          3|\n",
      "|      12|   3265|delivered|2025-03-08 05:40:30|               NULL|2025-03-09 01:40:30|2025-03-10 02:40:30|          4|\n",
      "|      13|   5866|delivered|2025-03-23 08:02:01|               NULL|2025-03-24 12:02:01|2025-03-25 14:02:01|          1|\n",
      "|      14|   1867|delivered|2025-03-18 07:10:26|               NULL|2025-03-20 07:10:26|2025-03-22 17:10:26|          3|\n",
      "|      15|   3672|delivered|2025-03-28 17:01:30|               NULL|2025-03-28 22:01:30|2025-03-29 13:01:30|          5|\n",
      "|      16|   8869| returned|2025-04-03 11:21:02|2025-04-11 04:21:02|2025-04-05 07:21:02|2025-04-08 04:21:02|          4|\n",
      "|      17|   9642|delivered|2025-04-05 12:48:18|               NULL|2025-04-06 00:48:18|2025-04-07 14:48:18|          4|\n",
      "|      18|   7000|delivered|2025-03-19 05:11:41|               NULL|2025-03-20 01:11:41|2025-03-20 14:11:41|          3|\n",
      "|      19|   9861|delivered|2025-04-04 16:16:23|               NULL|2025-04-04 23:16:23|2025-04-07 04:16:23|          1|\n",
      "|      20|   1386|delivered|2025-03-10 13:47:01|               NULL|2025-03-11 06:47:01|2025-03-14 04:47:01|          5|\n",
      "+--------+-------+---------+-------------------+-------------------+-------------------+-------------------+-----------+\n",
      "only showing top 20 rows\n",
      "\n"
     ]
    }
   ],
   "source": [
    "orders_df.show()"
   ]
  },
  {
   "cell_type": "code",
   "execution_count": 6,
   "id": "d665040b",
   "metadata": {},
   "outputs": [],
   "source": [
    "products_df = spark.read.option(\"header\", True).csv(\"../Data/products.csv\", inferSchema=True)"
   ]
  },
  {
   "cell_type": "code",
   "execution_count": 11,
   "id": "e8b55c59",
   "metadata": {},
   "outputs": [
    {
     "name": "stdout",
     "output_type": "stream",
     "text": [
      "+---+------------+-----+--------------+--------------------+--------+------------+-------------+\n",
      "| id|         sku| cost|      category|                name|   brand|retail_price|   department|\n",
      "+---+------------+-----+--------------+--------------------+--------+------------+-------------+\n",
      "|  1|eHZ-67752426|15.58|        Beauty|Down-sized stable...|  Globex|       53.95|Personal Care|\n",
      "|  2|jlT-35226003|14.74|        Beauty|Organized nationa...|Umbrella|       53.07|Personal Care|\n",
      "|  3|WHI-96258902| 8.02|Home & Kitchen|Focused discrete ...|Umbrella|       17.24|         Home|\n",
      "|  4|nLG-40948677|58.32|   Electronics|Future-proofed re...| Initech|       95.54|         Tech|\n",
      "|  5|teg-89693441|47.67|      Clothing|Optimized respons...|   Stark|       65.19|      Fashion|\n",
      "|  6|phO-34055321|20.17|        Sports|Up-sized holistic...|  Globex|       44.19|     Outdoors|\n",
      "|  7|FeZ-14558143|36.98|        Sports|Fundamental async...|   Stark|       46.15|     Outdoors|\n",
      "|  8|LVl-60282100|62.35|         Books|Reduced contextua...|Umbrella|      103.67|        Media|\n",
      "|  9|OyE-47000522|97.45|   Electronics|Enterprise-wide i...|   Stark|      119.48|         Tech|\n",
      "| 10|AeO-85237161|63.76|        Beauty|Up-sized reciproc...|   Wonka|      107.54|Personal Care|\n",
      "| 11|BjO-26646358| 9.35|   Electronics|Function-based up...|    Acme|       24.61|         Tech|\n",
      "| 12|Xqt-99336258|27.12|        Sports|Cloned non-volati...|   Wonka|       36.67|     Outdoors|\n",
      "| 13|nio-32295465|39.66|        Sports|Robust non-volati...| Soylent|       61.32|     Outdoors|\n",
      "| 14|mRn-48325085|93.98|        Beauty|User-friendly nee...|  Globex|      128.14|Personal Care|\n",
      "| 15|FYL-27738918|74.27|          Toys|Configurable expl...|   Wonka|       86.62|         Kids|\n",
      "| 16|oYO-60523721|57.91|        Beauty|Triple-buffered i...|   Stark|       93.72|Personal Care|\n",
      "| 17|ZLN-78527855|26.76|   Electronics|Intuitive foregro...| Soylent|        33.2|         Tech|\n",
      "| 18|hLF-24396648|25.04|   Electronics|Re-engineered hom...| Soylent|       72.47|         Tech|\n",
      "| 19|sav-97812581|67.27|      Clothing|Streamlined needs...| Initech|       90.07|      Fashion|\n",
      "| 20|jlm-51774189|30.16|      Clothing|Open-architected ...| Soylent|       46.26|      Fashion|\n",
      "+---+------------+-----+--------------+--------------------+--------+------------+-------------+\n",
      "only showing top 20 rows\n",
      "\n"
     ]
    }
   ],
   "source": [
    "products_df.show()"
   ]
  },
  {
   "cell_type": "code",
   "execution_count": 13,
   "id": "ce2a19b0",
   "metadata": {},
   "outputs": [],
   "source": [
    "orders_df = orders_df.withColumn(\"order_date\", to_date(col(\"created_at\")))\n",
    "order_items_df = order_items_df.withColumn(\"sale_price\", col(\"sale_price\").cast(\"float\"))"
   ]
  },
  {
   "cell_type": "code",
   "execution_count": 15,
   "id": "011cc74d",
   "metadata": {},
   "outputs": [],
   "source": [
    "joined_category_df = (\n",
    "            order_items_df\n",
    "            .join(orders_df.select(\"order_id\", \"order_date\"), on=\"order_id\")\n",
    "            .join(products_df.select(col(\"id\").alias(\"product_id\"), \"category\"), on=\"product_id\")\n",
    "            .withColumn(\"is_returned\", when(col(\"status\") == \"returned\", 1).otherwise(0))\n",
    "        )"
   ]
  },
  {
   "cell_type": "code",
   "execution_count": 16,
   "id": "5552f0c9",
   "metadata": {},
   "outputs": [
    {
     "name": "stdout",
     "output_type": "stream",
     "text": [
      "+----------+--------+---+-------+---------+-------------------+-------------------+-------------------+-------------------+----------+----------+--------------+-----------+\n",
      "|product_id|order_id| id|user_id|   status|         created_at|         shipped_at|       delivered_at|        returned_at|sale_price|order_date|      category|is_returned|\n",
      "+----------+--------+---+-------+---------+-------------------+-------------------+-------------------+-------------------+----------+----------+--------------+-----------+\n",
      "|      5585|       1|  1|   9116| returned|2025-03-30 17:09:26|2025-03-31 05:09:26|2025-04-02 03:09:26|2025-04-07 03:09:26|     81.64|2025-03-30|      Clothing|          1|\n",
      "|      9376|       2|  2|   2897|delivered|2025-03-29 16:28:59|2025-03-29 18:28:59|2025-04-01 07:28:59|               NULL|    112.97|2025-03-29|   Electronics|          0|\n",
      "|      7218|       3|  3|   4173| returned|2025-03-14 11:47:52|2025-03-15 11:47:52|2025-03-16 14:47:52|2025-03-19 14:47:52|     82.71|2025-03-14|      Clothing|          1|\n",
      "|      4807|       4|  4|   9360|delivered|2025-04-02 19:56:36|2025-04-03 19:56:36|2025-04-06 02:56:36|               NULL|     53.62|2025-04-02|        Sports|          0|\n",
      "|      6443|       5|  5|   6930|delivered|2025-03-09 08:26:56|2025-03-10 03:26:56|2025-03-11 09:26:56|               NULL|    119.93|2025-03-09|      Clothing|          0|\n",
      "|      4397|       5|  6|   6930|delivered|2025-03-09 08:13:56|2025-03-09 23:13:56|2025-03-10 07:13:56|               NULL|    108.13|2025-03-09|          Toys|          0|\n",
      "|      6107|       5|  7|   6930|delivered|2025-03-09 08:57:56|2025-03-10 02:57:56|2025-03-11 04:57:56|               NULL|     79.87|2025-03-09|        Sports|          0|\n",
      "|      6558|       6|  8|   8130|delivered|2025-03-20 14:00:14|2025-03-21 09:00:14|2025-03-22 05:00:14|               NULL|     53.94|2025-03-20|   Electronics|          0|\n",
      "|      8420|       6|  9|   8130|delivered|2025-03-20 14:17:14|2025-03-21 08:17:14|2025-03-21 18:17:14|               NULL|     64.72|2025-03-20|          Toys|          0|\n",
      "|      4726|       6| 10|   8130|delivered|2025-03-20 14:37:14|2025-03-20 16:37:14|2025-03-21 22:37:14|               NULL|     18.13|2025-03-20|Home & Kitchen|          0|\n",
      "|      6866|       6| 11|   8130|delivered|2025-03-20 14:57:14|2025-03-21 01:57:14|2025-03-23 15:57:14|               NULL|    104.74|2025-03-20|Home & Kitchen|          0|\n",
      "|      4262|       6| 12|   8130|delivered|2025-03-20 14:05:14|2025-03-21 04:05:14|2025-03-22 01:05:14|               NULL|    125.78|2025-03-20|        Sports|          0|\n",
      "|      2592|       7| 13|   1926|delivered|2025-04-05 22:29:11|2025-04-06 19:29:11|2025-04-08 03:29:11|               NULL|     49.31|2025-04-05|         Books|          0|\n",
      "|       361|       7| 14|   1926|delivered|2025-04-05 22:16:11|2025-04-06 09:16:11|2025-04-08 04:16:11|               NULL|     47.19|2025-04-05|Home & Kitchen|          0|\n",
      "|      4501|       8| 15|   2388|delivered|2025-03-27 13:51:32|2025-03-28 01:51:32|2025-03-30 01:51:32|               NULL|    129.29|2025-03-27|         Books|          0|\n",
      "|      7202|       8| 16|   2388|delivered|2025-03-27 13:44:32|2025-03-27 15:44:32|2025-03-28 02:44:32|               NULL|    148.59|2025-03-27|   Electronics|          0|\n",
      "|      4089|       9| 17|   8948|delivered|2025-03-17 23:19:27|2025-03-18 07:19:27|2025-03-20 18:19:27|               NULL|     73.78|2025-03-17|        Beauty|          0|\n",
      "|      5710|       9| 18|   8948|delivered|2025-03-17 23:11:27|2025-03-18 07:11:27|2025-03-20 21:11:27|               NULL|     30.67|2025-03-17|          Toys|          0|\n",
      "|      1623|      10| 19|   1861|delivered|2025-03-30 22:46:44|2025-03-31 14:46:44|2025-04-03 09:46:44|               NULL|     57.26|2025-03-30|        Beauty|          0|\n",
      "|      6221|      10| 20|   1861|delivered|2025-03-30 22:53:44|2025-03-31 11:53:44|2025-04-01 18:53:44|               NULL|     90.97|2025-03-30|         Books|          0|\n",
      "+----------+--------+---+-------+---------+-------------------+-------------------+-------------------+-------------------+----------+----------+--------------+-----------+\n",
      "only showing top 20 rows\n",
      "\n"
     ]
    }
   ],
   "source": [
    "joined_category_df.show()"
   ]
  }
 ],
 "metadata": {
  "kernelspec": {
   "display_name": "pyspark",
   "language": "python",
   "name": "python3"
  },
  "language_info": {
   "codemirror_mode": {
    "name": "ipython",
    "version": 3
   },
   "file_extension": ".py",
   "mimetype": "text/x-python",
   "name": "python",
   "nbconvert_exporter": "python",
   "pygments_lexer": "ipython3",
   "version": "3.13.0"
  }
 },
 "nbformat": 4,
 "nbformat_minor": 5
}
